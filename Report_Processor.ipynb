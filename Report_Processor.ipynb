{
  "nbformat": 4,
  "nbformat_minor": 0,
  "metadata": {
    "colab": {
      "provenance": [],
      "authorship_tag": "ABX9TyPwSpnLavdMkJmHA0Tue9j7",
      "include_colab_link": true
    },
    "kernelspec": {
      "name": "python3",
      "display_name": "Python 3"
    },
    "language_info": {
      "name": "python"
    }
  },
  "cells": [
    {
      "cell_type": "markdown",
      "metadata": {
        "id": "view-in-github",
        "colab_type": "text"
      },
      "source": [
        "<a href=\"https://colab.research.google.com/github/ravendinata/crep_colab/blob/main/Report_Processor.ipynb\" target=\"_parent\"><img src=\"https://colab.research.google.com/assets/colab-badge.svg\" alt=\"Open In Colab\"/></a>"
      ]
    },
    {
      "cell_type": "markdown",
      "source": [
        "# Quick Tutorial\n",
        "To run a cell, click on the Play button to the left of each code cell. Usually, you will need to hover on top of the [#] on the left of the code.\n",
        "\n",
        "NOTE:  \n",
        "After making changes to any parameter, please run that cell to save the new parameter into the application."
      ],
      "metadata": {
        "id": "KI4lNKqYOAwP"
      }
    },
    {
      "cell_type": "code",
      "execution_count": null,
      "metadata": {
        "id": "dUUjuB31JpMW"
      },
      "outputs": [],
      "source": [
        "#@title **Upload Report File**\n",
        "#@markdown WARNING: Please upload only one file!\n",
        "\n",
        "from google.colab import files\n",
        "\n",
        "uploaded = files.upload()\n",
        "file_names = []\n",
        "source_file = list(uploaded.keys())[0]\n",
        "\n",
        "print('File uploaded! Please continue to execute next cell.')"
      ]
    },
    {
      "cell_type": "code",
      "source": [
        "#@title **Configure Processing Parameters**\n",
        "#@markdown **What kind of report have you uploaded?**\n",
        "#@markdown 1. Cohort All Assignment Grades\n",
        "#@markdown 2. Cohort All Final Grades\n",
        "\n",
        "mode = 1 # @param [\"1\", \"2\"] {type:\"raw\"}\n",
        "\n",
        "output_name = \"report\" # @param {type:\"string\"}"
      ],
      "metadata": {
        "id": "a00CO7xbM6tT"
      },
      "execution_count": null,
      "outputs": []
    },
    {
      "cell_type": "code",
      "source": [
        "# @title **Process Data** (Run this cell to start processing the report)\n",
        "\n",
        "import os\n",
        "import sys\n",
        "\n",
        "import pandas as pd\n",
        "\n",
        "from pathlib import Path\n",
        "\n",
        "def process_grouped_data(grouped, output_file_path, value, index, column, sort = False):\n",
        "  print(\"[**] Creating output file...\")\n",
        "  with pd.ExcelWriter(output_file_path) as writer:\n",
        "    for key, item in grouped:\n",
        "      print(f\"[  ] Processing {key}...\")\n",
        "      item = grouped.get_group(key)\n",
        "      shaped = item.pivot_table(value, index, column, sort = sort)\n",
        "      shaped.to_excel(writer, sheet_name = key)\n",
        "\n",
        "  print(\"[OK] Processing complete!\")\n",
        "\n",
        "def process_file(file_path, output_file_path, mode):\n",
        "  print(\"[..] Processing source file...\")\n",
        "  df = pd.read_csv(file_path)\n",
        "\n",
        "  match mode:\n",
        "    case 1:\n",
        "      print(\"[  ] Grouping data...\")\n",
        "      grouped = df.groupby(\"course\")\n",
        "      process_grouped_data(grouped, output_file_path, \"Grade\", [\"student name\", \"class\"], \"item name\")\n",
        "\n",
        "    case 2:\n",
        "      print(\"[  ] Grouping data...\")\n",
        "      grouped = df.groupby(\"class\")\n",
        "      process_grouped_data(grouped, output_file_path, \"Grade\", \"student name\", \"course\")\n",
        "\n",
        "    case _:\n",
        "      raise ValueError(\"[ER] Invalid report file type.\")\n",
        "\n",
        "# Main\n",
        "\n",
        "sys.path.append('/drive/content')\n",
        "if not os.path.exists(source_file):\n",
        "  raise ValueError(f\"[ER] No {source_file} found in current path!\")\n",
        "\n",
        "if output_name[-5:] != \".xlsx\":\n",
        "    output_name += \".xlsx\"\n",
        "\n",
        "print(\"[OK] Creating file. Please wait...\")\n",
        "process_file(source_file, output_name, mode)\n",
        "print(f\"[OK] File saved to {output_name}\")"
      ],
      "metadata": {
        "id": "l99f-o_sKRT_"
      },
      "execution_count": null,
      "outputs": []
    },
    {
      "cell_type": "code",
      "source": [],
      "metadata": {
        "id": "l-aE5NpjSaAL"
      },
      "execution_count": null,
      "outputs": []
    }
  ]
}